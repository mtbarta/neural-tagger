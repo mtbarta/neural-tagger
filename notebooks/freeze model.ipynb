{
 "cells": [
  {
   "cell_type": "code",
   "execution_count": 1,
   "metadata": {
    "collapsed": true
   },
   "outputs": [],
   "source": [
    "from NLPutils.models import BLSTM"
   ]
  },
  {
   "cell_type": "code",
   "execution_count": 5,
   "metadata": {
    "collapsed": false
   },
   "outputs": [
    {
     "name": "stdout",
     "output_type": "stream",
     "text": [
      "Loaded saver def\n",
      "Imported graph def\n",
      "Failed to get transition matrix, setting crf=False\n"
     ]
    }
   ],
   "source": [
    "import tensorflow as tf\n",
    "\n",
    "sess = tf.Session()\n",
    "\n",
    "model = BLSTM.restore(sess, '/data/models/conll-chunk', 'chunk')"
   ]
  },
  {
   "cell_type": "code",
   "execution_count": 6,
   "metadata": {
    "collapsed": true
   },
   "outputs": [],
   "source": [
    "from tensorflow.python.saved_model import builder as saved_model_builder\n",
    "from tensorflow.python.saved_model import signature_constants\n",
    "from tensorflow.python.saved_model import signature_def_utils\n",
    "from tensorflow.python.saved_model import tag_constants\n",
    "from tensorflow.python.saved_model import utils\n",
    "from tensorflow.python.util import compat"
   ]
  },
  {
   "cell_type": "code",
   "execution_count": 7,
   "metadata": {
    "collapsed": true
   },
   "outputs": [],
   "source": [
    "export_path = \"/data/frozen_test\"\n",
    "builder = saved_model_builder.SavedModelBuilder(export_path)"
   ]
  },
  {
   "cell_type": "code",
   "execution_count": 12,
   "metadata": {
    "collapsed": false
   },
   "outputs": [
    {
     "ename": "AttributeError",
     "evalue": "'NoneType' object has no attribute 'dtype'",
     "output_type": "error",
     "traceback": [
      "\u001b[0;31m---------------------------------------------------------------------------\u001b[0m",
      "\u001b[0;31mAttributeError\u001b[0m                            Traceback (most recent call last)",
      "\u001b[0;32m<ipython-input-12-0ddc5afb069a>\u001b[0m in \u001b[0;36m<module>\u001b[0;34m()\u001b[0m\n\u001b[1;32m     17\u001b[0m \u001b[0mtensor_info_xch\u001b[0m \u001b[0;34m=\u001b[0m \u001b[0mutils\u001b[0m\u001b[0;34m.\u001b[0m\u001b[0mbuild_tensor_info\u001b[0m\u001b[0;34m(\u001b[0m\u001b[0mmodel\u001b[0m\u001b[0;34m.\u001b[0m\u001b[0mxch\u001b[0m\u001b[0;34m)\u001b[0m\u001b[0;34m\u001b[0m\u001b[0m\n\u001b[1;32m     18\u001b[0m \u001b[0mtensor_info_out\u001b[0m \u001b[0;34m=\u001b[0m \u001b[0mutils\u001b[0m\u001b[0;34m.\u001b[0m\u001b[0mbuild_tensor_info\u001b[0m\u001b[0;34m(\u001b[0m\u001b[0mmodel\u001b[0m\u001b[0;34m.\u001b[0m\u001b[0mprobs\u001b[0m\u001b[0;34m)\u001b[0m\u001b[0;34m\u001b[0m\u001b[0m\n\u001b[0;32m---> 19\u001b[0;31m \u001b[0mtensor_info_transition\u001b[0m \u001b[0;34m=\u001b[0m \u001b[0mutils\u001b[0m\u001b[0;34m.\u001b[0m\u001b[0mbuild_tensor_info\u001b[0m\u001b[0;34m(\u001b[0m\u001b[0mmodel\u001b[0m\u001b[0;34m.\u001b[0m\u001b[0mA\u001b[0m\u001b[0;34m)\u001b[0m\u001b[0;34m\u001b[0m\u001b[0m\n\u001b[0m",
      "\u001b[0;32m/opt/conda/lib/python3.5/site-packages/tensorflow/python/saved_model/utils_impl.py\u001b[0m in \u001b[0;36mbuild_tensor_info\u001b[0;34m(tensor)\u001b[0m\n\u001b[1;32m     35\u001b[0m     \u001b[0mA\u001b[0m \u001b[0mTensorInfo\u001b[0m \u001b[0mprotocol\u001b[0m \u001b[0mbuffer\u001b[0m \u001b[0mconstructed\u001b[0m \u001b[0mbased\u001b[0m \u001b[0mon\u001b[0m \u001b[0mthe\u001b[0m \u001b[0msupplied\u001b[0m \u001b[0margument\u001b[0m\u001b[0;34m.\u001b[0m\u001b[0;34m\u001b[0m\u001b[0m\n\u001b[1;32m     36\u001b[0m   \"\"\"\n\u001b[0;32m---> 37\u001b[0;31m   \u001b[0mdtype_enum\u001b[0m \u001b[0;34m=\u001b[0m \u001b[0mdtypes\u001b[0m\u001b[0;34m.\u001b[0m\u001b[0mas_dtype\u001b[0m\u001b[0;34m(\u001b[0m\u001b[0mtensor\u001b[0m\u001b[0;34m.\u001b[0m\u001b[0mdtype\u001b[0m\u001b[0;34m)\u001b[0m\u001b[0;34m.\u001b[0m\u001b[0mas_datatype_enum\u001b[0m\u001b[0;34m\u001b[0m\u001b[0m\n\u001b[0m\u001b[1;32m     38\u001b[0m   return meta_graph_pb2.TensorInfo(\n\u001b[1;32m     39\u001b[0m       \u001b[0mname\u001b[0m\u001b[0;34m=\u001b[0m\u001b[0mtensor\u001b[0m\u001b[0;34m.\u001b[0m\u001b[0mname\u001b[0m\u001b[0;34m,\u001b[0m\u001b[0;34m\u001b[0m\u001b[0m\n",
      "\u001b[0;31mAttributeError\u001b[0m: 'NoneType' object has no attribute 'dtype'"
     ]
    }
   ],
   "source": [
    "# Build the signature_def_map.\n",
    "# classification_inputs = utils.build_tensor_info(serialized_tf_example)\n",
    "# classification_outputs_classes = utils.build_tensor_info(prediction_classes)\n",
    "# classification_outputs_scores = utils.build_tensor_info(values)\n",
    "\n",
    "# classification_signature = signature_def_utils.build_signature_def(\n",
    "#   inputs={signature_constants.CLASSIFY_INPUTS: classification_inputs},\n",
    "#   outputs={\n",
    "#       signature_constants.CLASSIFY_OUTPUT_CLASSES:\n",
    "#           classification_outputs_classes,\n",
    "#       signature_constants.CLASSIFY_OUTPUT_SCORES:\n",
    "#           classification_outputs_scores\n",
    "#   },\n",
    "# method_name=signature_constants.CLASSIFY_METHOD_NAME)\n",
    "\n",
    "tensor_info_x = utils.build_tensor_info(model.x)\n",
    "tensor_info_xch = utils.build_tensor_info(model.xch)\n",
    "tensor_info_out = utils.build_tensor_info(model.probs)\n",
    "tensor_info_transition = utils.build_tensor_info(model.A)"
   ]
  },
  {
   "cell_type": "code",
   "execution_count": 11,
   "metadata": {
    "collapsed": false
   },
   "outputs": [
    {
     "ename": "NameError",
     "evalue": "name 'tensor_info_transition' is not defined",
     "output_type": "error",
     "traceback": [
      "\u001b[0;31m---------------------------------------------------------------------------\u001b[0m",
      "\u001b[0;31mNameError\u001b[0m                                 Traceback (most recent call last)",
      "\u001b[0;32m<ipython-input-11-b6f272ec742d>\u001b[0m in \u001b[0;36m<module>\u001b[0;34m()\u001b[0m\n\u001b[1;32m      9\u001b[0m               'xch': tensor_info_xch},\n\u001b[1;32m     10\u001b[0m       outputs={'scores': tensor_info_out,\n\u001b[0;32m---> 11\u001b[0;31m                'transitions': tensor_info_transition},\n\u001b[0m\u001b[1;32m     12\u001b[0m method_name=signature_constants.PREDICT_METHOD_NAME)\n",
      "\u001b[0;31mNameError\u001b[0m: name 'tensor_info_transition' is not defined"
     ]
    }
   ],
   "source": [
    "prediction_signature = signature_def_utils.build_signature_def(\n",
    "      inputs={'x': tensor_info_x,\n",
    "              'xch': tensor_info_xch},\n",
    "      outputs={'scores': tensor_info_out},\n",
    "method_name=signature_constants.CLASSIFY_METHOD_NAME)\n",
    "\n",
    "crf_signature = signature_def_utils.build_signature_def(\n",
    "      inputs={'x': tensor_info_x,\n",
    "              'xch': tensor_info_xch},\n",
    "      outputs={'scores': tensor_info_out,\n",
    "               'transitions': tensor_info_transition},\n",
    "method_name=signature_constants.PREDICT_METHOD_NAME)"
   ]
  },
  {
   "cell_type": "code",
   "execution_count": 10,
   "metadata": {
    "collapsed": false
   },
   "outputs": [
    {
     "name": "stdout",
     "output_type": "stream",
     "text": [
      "WARNING:tensorflow:From <ipython-input-10-e55350b6021d>:1: initialize_all_tables (from tensorflow.python.ops.data_flow_ops) is deprecated and will be removed after 2017-03-02.\n",
      "Instructions for updating:\n",
      "Use `tf.tables_initializer` instead.\n",
      "INFO:tensorflow:No assets to save.\n",
      "INFO:tensorflow:No assets to write.\n",
      "INFO:tensorflow:SavedModel written to: b'/data/frozen_test/saved_model.pb'\n"
     ]
    },
    {
     "data": {
      "text/plain": [
       "b'/data/frozen_test/saved_model.pb'"
      ]
     },
     "execution_count": 10,
     "metadata": {},
     "output_type": "execute_result"
    }
   ],
   "source": [
    "legacy_init_op = tf.group(tf.initialize_all_tables(), name='legacy_init_op')\n",
    "\n",
    "builder.add_meta_graph_and_variables(\n",
    "  sess, [tag_constants.SERVING],\n",
    "  signature_def_map={\n",
    "      'predict_ner':\n",
    "          crf_signature,\n",
    "      signature_constants.DEFAULT_SERVING_SIGNATURE_DEF_KEY:\n",
    "          prediction_signature\n",
    "  },\n",
    "  legacy_init_op=legacy_init_op)\n",
    "\n",
    "builder.save()"
   ]
  }
 ],
 "metadata": {
  "kernelspec": {
   "display_name": "Python 3",
   "language": "python",
   "name": "python3"
  },
  "language_info": {
   "codemirror_mode": {
    "name": "ipython",
    "version": 3
   },
   "file_extension": ".py",
   "mimetype": "text/x-python",
   "name": "python",
   "nbconvert_exporter": "python",
   "pygments_lexer": "ipython3",
   "version": "3.5.3"
  }
 },
 "nbformat": 4,
 "nbformat_minor": 2
}
